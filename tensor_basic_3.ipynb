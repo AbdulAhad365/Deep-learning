{
  "nbformat": 4,
  "nbformat_minor": 0,
  "metadata": {
    "colab": {
      "provenance": []
    },
    "kernelspec": {
      "name": "python3",
      "display_name": "Python 3"
    },
    "language_info": {
      "name": "python"
    }
  },
  "cells": [
    {
      "cell_type": "code",
      "execution_count": 33,
      "metadata": {
        "id": "W4B3digRG2MI"
      },
      "outputs": [],
      "source": [
        "import tensorflow as tf\n",
        "import numpy as np"
      ]
    },
    {
      "cell_type": "code",
      "source": [
        "const_1=tf.constant([1,2,3,4])\n",
        "const_float=tf.constant([.1,.2,.4])\n",
        "const_float"
      ],
      "metadata": {
        "colab": {
          "base_uri": "https://localhost:8080/"
        },
        "id": "wQU1VxQkG8k_",
        "outputId": "020a851f-70c7-45bb-e862-2d1be10f3b55"
      },
      "execution_count": null,
      "outputs": [
        {
          "output_type": "execute_result",
          "data": {
            "text/plain": [
              "<tf.Tensor: shape=(3,), dtype=float32, numpy=array([0.1, 0.2, 0.4], dtype=float32)>"
            ]
          },
          "metadata": {},
          "execution_count": 8
        }
      ]
    },
    {
      "cell_type": "code",
      "source": [
        "const_1.dtype"
      ],
      "metadata": {
        "colab": {
          "base_uri": "https://localhost:8080/"
        },
        "id": "mE9zZyjMG8mM",
        "outputId": "6ce7c319-f7a5-4e19-eb2c-7e3abea54954"
      },
      "execution_count": null,
      "outputs": [
        {
          "output_type": "execute_result",
          "data": {
            "text/plain": [
              "tf.int32"
            ]
          },
          "metadata": {},
          "execution_count": 4
        }
      ]
    },
    {
      "cell_type": "markdown",
      "source": [
        "**CHANGE FROM FLOAT 32 TO FLOAT 16**"
      ],
      "metadata": {
        "id": "e683qG0DHZ-e"
      }
    },
    {
      "cell_type": "code",
      "source": [
        "chan_const1=tf.cast(const_1,dtype=tf.float16)\n",
        "chan_const1"
      ],
      "metadata": {
        "colab": {
          "base_uri": "https://localhost:8080/"
        },
        "id": "Ghiq8p5GG8nV",
        "outputId": "7c1e7fe5-9144-4f2b-c776-3daf553f12dd"
      },
      "execution_count": null,
      "outputs": [
        {
          "output_type": "execute_result",
          "data": {
            "text/plain": [
              "<tf.Tensor: shape=(4,), dtype=float16, numpy=array([1., 2., 3., 4.], dtype=float16)>"
            ]
          },
          "metadata": {},
          "execution_count": 9
        }
      ]
    },
    {
      "cell_type": "code",
      "source": [
        "#find the mimum, max, mean, sum if the tensor\n",
        "rand_values=tf.constant(np.random.randint(0,100,size=50))\n",
        "rand_values"
      ],
      "metadata": {
        "colab": {
          "base_uri": "https://localhost:8080/"
        },
        "id": "kWGRCJl76txe",
        "outputId": "e31fc8b8-2829-41c7-92ec-0bcd367d03c3"
      },
      "execution_count": null,
      "outputs": [
        {
          "output_type": "execute_result",
          "data": {
            "text/plain": [
              "<tf.Tensor: shape=(50,), dtype=int64, numpy=\n",
              "array([85, 96, 87, 87, 67, 23, 85, 22, 60, 78, 28, 57, 67, 82, 48, 85, 44,\n",
              "       91, 86, 11, 64, 86, 53, 38, 37, 78, 81, 25, 94,  3, 22, 28,  2, 90,\n",
              "       97, 25, 55, 80, 11, 43, 48, 11, 59, 55, 63,  4, 54, 81, 35, 72])>"
            ]
          },
          "metadata": {},
          "execution_count": 4
        }
      ]
    },
    {
      "cell_type": "code",
      "source": [
        "tf.size(rand_values)"
      ],
      "metadata": {
        "colab": {
          "base_uri": "https://localhost:8080/"
        },
        "id": "KJ328OIE7RxB",
        "outputId": "a3d0d96e-23f5-4208-f596-728b712cdb2d"
      },
      "execution_count": null,
      "outputs": [
        {
          "output_type": "execute_result",
          "data": {
            "text/plain": [
              "<tf.Tensor: shape=(), dtype=int32, numpy=50>"
            ]
          },
          "metadata": {},
          "execution_count": 5
        }
      ]
    },
    {
      "cell_type": "code",
      "source": [
        "rand_values.shape"
      ],
      "metadata": {
        "colab": {
          "base_uri": "https://localhost:8080/"
        },
        "id": "-GJPiHDH7bxV",
        "outputId": "e21a2a35-37a4-43ec-9278-aa97ba172e12"
      },
      "execution_count": null,
      "outputs": [
        {
          "output_type": "execute_result",
          "data": {
            "text/plain": [
              "TensorShape([50])"
            ]
          },
          "metadata": {},
          "execution_count": 8
        }
      ]
    },
    {
      "cell_type": "code",
      "source": [
        "rand_values.ndim"
      ],
      "metadata": {
        "colab": {
          "base_uri": "https://localhost:8080/"
        },
        "id": "msDkReN37k91",
        "outputId": "542b876d-a114-4d3b-ebd2-81a7b6b2a7c4"
      },
      "execution_count": null,
      "outputs": [
        {
          "output_type": "execute_result",
          "data": {
            "text/plain": [
              "1"
            ]
          },
          "metadata": {},
          "execution_count": 9
        }
      ]
    },
    {
      "cell_type": "code",
      "source": [
        "#find the minimum value\n",
        "tf.reduce_min(rand_values)"
      ],
      "metadata": {
        "colab": {
          "base_uri": "https://localhost:8080/"
        },
        "id": "IXI3WFLk7rod",
        "outputId": "65aaeb65-80f3-439b-9477-3b5817758f57"
      },
      "execution_count": null,
      "outputs": [
        {
          "output_type": "execute_result",
          "data": {
            "text/plain": [
              "<tf.Tensor: shape=(), dtype=int64, numpy=2>"
            ]
          },
          "metadata": {},
          "execution_count": 10
        }
      ]
    },
    {
      "cell_type": "code",
      "source": [
        "#find the maximum values\n",
        "tf.reduce_max(rand_values)"
      ],
      "metadata": {
        "colab": {
          "base_uri": "https://localhost:8080/"
        },
        "id": "YrdugG4H7ray",
        "outputId": "9573507f-af29-48dd-936c-194bea58872e"
      },
      "execution_count": null,
      "outputs": [
        {
          "output_type": "execute_result",
          "data": {
            "text/plain": [
              "<tf.Tensor: shape=(), dtype=int64, numpy=97>"
            ]
          },
          "metadata": {},
          "execution_count": 11
        }
      ]
    },
    {
      "cell_type": "code",
      "source": [
        "tf.reduce_mean(rand_values)"
      ],
      "metadata": {
        "colab": {
          "base_uri": "https://localhost:8080/"
        },
        "id": "-TErxSpn7rU5",
        "outputId": "efd3184b-793e-4f21-e925-c8e062741e8e"
      },
      "execution_count": null,
      "outputs": [
        {
          "output_type": "execute_result",
          "data": {
            "text/plain": [
              "<tf.Tensor: shape=(), dtype=int64, numpy=55>"
            ]
          },
          "metadata": {},
          "execution_count": 12
        }
      ]
    },
    {
      "cell_type": "code",
      "source": [
        "tf.reduce_sum(rand_values)"
      ],
      "metadata": {
        "colab": {
          "base_uri": "https://localhost:8080/"
        },
        "id": "AbcfGuMD8Peq",
        "outputId": "10b77a13-88f2-4829-a3ae-3fc43936f8f1"
      },
      "execution_count": null,
      "outputs": [
        {
          "output_type": "execute_result",
          "data": {
            "text/plain": [
              "<tf.Tensor: shape=(), dtype=int64, numpy=2783>"
            ]
          },
          "metadata": {},
          "execution_count": 13
        }
      ]
    },
    {
      "cell_type": "code",
      "source": [
        "#for variance first convert these values to the float\n",
        "floated_value=tf.cast(rand_values,dtype=tf.float32)\n",
        "tf.math.reduce_variance(floated_value)\n",
        "# floated_value"
      ],
      "metadata": {
        "colab": {
          "base_uri": "https://localhost:8080/"
        },
        "id": "0YZO-1G-8wOm",
        "outputId": "1e555b32-6fb4-4da0-afda-95d1a74a2a81"
      },
      "execution_count": null,
      "outputs": [
        {
          "output_type": "execute_result",
          "data": {
            "text/plain": [
              "<tf.Tensor: shape=(), dtype=float32, numpy=808.5845>"
            ]
          },
          "metadata": {},
          "execution_count": 22
        }
      ]
    },
    {
      "cell_type": "code",
      "source": [
        "#now find the standard deviation of\n",
        "tf.math.reduce_std(floated_value)"
      ],
      "metadata": {
        "colab": {
          "base_uri": "https://localhost:8080/"
        },
        "id": "LhdMt9hx8wGX",
        "outputId": "e799d053-b631-4192-9150-a0bfe7519a2a"
      },
      "execution_count": null,
      "outputs": [
        {
          "output_type": "execute_result",
          "data": {
            "text/plain": [
              "<tf.Tensor: shape=(), dtype=float32, numpy=28.43562>"
            ]
          },
          "metadata": {},
          "execution_count": 23
        }
      ]
    },
    {
      "cell_type": "code",
      "source": [
        "# tf.reduce_variance(rand_values)"
      ],
      "metadata": {
        "id": "yXlKUQAE8jYr"
      },
      "execution_count": null,
      "outputs": []
    },
    {
      "cell_type": "markdown",
      "source": [
        "***POSITIONAL MAXIMUM AND MINIMUM***"
      ],
      "metadata": {
        "id": "t4vuW7yGgjco"
      }
    },
    {
      "cell_type": "code",
      "source": [
        "# create a new tensor for finding the positional min and max\n",
        "tf.random.set_seed(42);\n",
        "post_vec=tf.random.uniform(shape=[50]);"
      ],
      "metadata": {
        "id": "PET-p-y3go7f"
      },
      "execution_count": 25,
      "outputs": []
    },
    {
      "cell_type": "code",
      "source": [
        "post_vec"
      ],
      "metadata": {
        "colab": {
          "base_uri": "https://localhost:8080/"
        },
        "id": "FfO8UO7Ehd0o",
        "outputId": "b349e48b-56a9-4f27-b955-a6676990f363"
      },
      "execution_count": 26,
      "outputs": [
        {
          "output_type": "execute_result",
          "data": {
            "text/plain": [
              "<tf.Tensor: shape=(50,), dtype=float32, numpy=\n",
              "array([0.6645621 , 0.44100678, 0.3528825 , 0.46448255, 0.03366041,\n",
              "       0.68467236, 0.74011743, 0.8724445 , 0.22632635, 0.22319686,\n",
              "       0.3103881 , 0.7223358 , 0.13318717, 0.5480639 , 0.5746088 ,\n",
              "       0.8996835 , 0.00946367, 0.5212307 , 0.6345445 , 0.1993283 ,\n",
              "       0.72942245, 0.54583454, 0.10756552, 0.6767061 , 0.6602763 ,\n",
              "       0.33695042, 0.60141766, 0.21062577, 0.8527372 , 0.44062173,\n",
              "       0.9485276 , 0.23752594, 0.81179297, 0.5263394 , 0.494308  ,\n",
              "       0.21612847, 0.8457197 , 0.8718841 , 0.3083862 , 0.6868038 ,\n",
              "       0.23764038, 0.7817228 , 0.9671384 , 0.06870162, 0.79873943,\n",
              "       0.66028714, 0.5871513 , 0.16461694, 0.7381023 , 0.32054043],\n",
              "      dtype=float32)>"
            ]
          },
          "metadata": {},
          "execution_count": 26
        }
      ]
    },
    {
      "cell_type": "code",
      "source": [
        "# gives me the index of the maximum value in the array\n",
        "tf.argmax(post_vec)"
      ],
      "metadata": {
        "colab": {
          "base_uri": "https://localhost:8080/"
        },
        "id": "2wU8QlF3hdzZ",
        "outputId": "a980b891-c430-4d58-abe0-9c26959e719d"
      },
      "execution_count": 27,
      "outputs": [
        {
          "output_type": "execute_result",
          "data": {
            "text/plain": [
              "<tf.Tensor: shape=(), dtype=int64, numpy=42>"
            ]
          },
          "metadata": {},
          "execution_count": 27
        }
      ]
    },
    {
      "cell_type": "code",
      "source": [
        "# Now print the value\n",
        "post_vec[tf.argmax(post_vec)]\n",
        "# or way 2\n",
        "tf.reduce_max(post_vec)"
      ],
      "metadata": {
        "colab": {
          "base_uri": "https://localhost:8080/"
        },
        "id": "ztSXFEPJiKtw",
        "outputId": "b9898e05-4e2c-42eb-b178-92c0fabd0535"
      },
      "execution_count": 30,
      "outputs": [
        {
          "output_type": "execute_result",
          "data": {
            "text/plain": [
              "<tf.Tensor: shape=(), dtype=float32, numpy=0.9671384>"
            ]
          },
          "metadata": {},
          "execution_count": 30
        }
      ]
    },
    {
      "cell_type": "code",
      "source": [
        "#test\n",
        "many_dim=tf.constant(tf.random.uniform(shape=[50]), shape=(1,1,1,1,50))\n"
      ],
      "metadata": {
        "id": "k0SUiSExkDXZ"
      },
      "execution_count": 42,
      "outputs": []
    },
    {
      "cell_type": "code",
      "source": [
        "many_dim.shape"
      ],
      "metadata": {
        "colab": {
          "base_uri": "https://localhost:8080/"
        },
        "id": "Y7nPPxb3ly0n",
        "outputId": "f8408a4e-b9dc-4a94-a589-b2a0e0ac0b57"
      },
      "execution_count": 43,
      "outputs": [
        {
          "output_type": "execute_result",
          "data": {
            "text/plain": [
              "TensorShape([1, 1, 1, 1, 50])"
            ]
          },
          "metadata": {},
          "execution_count": 43
        }
      ]
    },
    {
      "cell_type": "markdown",
      "source": [
        "**SQUEEZE THE SHAPE OF THE MATRIX**"
      ],
      "metadata": {
        "id": "wSfHSC7bqAb5"
      }
    },
    {
      "cell_type": "code",
      "source": [
        "squeeze=tf.squeeze(many_dim)\n",
        "squeeze.shape"
      ],
      "metadata": {
        "colab": {
          "base_uri": "https://localhost:8080/"
        },
        "id": "wE_x4MBkqFww",
        "outputId": "481ee0c8-075b-422d-dc97-a90b87204bfa"
      },
      "execution_count": 45,
      "outputs": [
        {
          "output_type": "execute_result",
          "data": {
            "text/plain": [
              "TensorShape([50])"
            ]
          },
          "metadata": {},
          "execution_count": 45
        }
      ]
    },
    {
      "cell_type": "markdown",
      "source": [
        "***ONE HOT ENCODING***"
      ],
      "metadata": {
        "id": "4vrSgbYHqjZW"
      }
    },
    {
      "cell_type": "code",
      "source": [
        "list=[0,1,2]\n",
        "#one hot encode\n",
        "tf.one_hot(list,depth=3)"
      ],
      "metadata": {
        "colab": {
          "base_uri": "https://localhost:8080/"
        },
        "id": "HNphOvRQqmPA",
        "outputId": "cf11fdd3-9e4f-4ef2-b000-2b6990ee1422"
      },
      "execution_count": 52,
      "outputs": [
        {
          "output_type": "execute_result",
          "data": {
            "text/plain": [
              "<tf.Tensor: shape=(3, 3), dtype=float32, numpy=\n",
              "array([[1., 0., 0.],\n",
              "       [0., 1., 0.],\n",
              "       [0., 0., 1.]], dtype=float32)>"
            ]
          },
          "metadata": {},
          "execution_count": 52
        }
      ]
    },
    {
      "cell_type": "code",
      "source": [
        "#specify the custom values\n",
        "tf.one_hot(list,depth=3,on_value=\"i love deep learning\",off_value=\"i also dance\")"
      ],
      "metadata": {
        "colab": {
          "base_uri": "https://localhost:8080/"
        },
        "id": "WZiVtkKSrIm6",
        "outputId": "99e4cd7e-9962-40c4-f061-1c48c03222da"
      },
      "execution_count": 53,
      "outputs": [
        {
          "output_type": "execute_result",
          "data": {
            "text/plain": [
              "<tf.Tensor: shape=(3, 3), dtype=string, numpy=\n",
              "array([[b'i love deep learning', b'i also dance', b'i also dance'],\n",
              "       [b'i also dance', b'i love deep learning', b'i also dance'],\n",
              "       [b'i also dance', b'i also dance', b'i love deep learning']],\n",
              "      dtype=object)>"
            ]
          },
          "metadata": {},
          "execution_count": 53
        }
      ]
    },
    {
      "cell_type": "markdown",
      "source": [
        "**square root**"
      ],
      "metadata": {
        "id": "7pTFDMWhskdk"
      }
    },
    {
      "cell_type": "code",
      "source": [
        "h=tf.range(1,9)\n",
        "tf.square(h)\n",
        "# int 32 cannot be used, convert to float32\n",
        "tf.math.sqrt(tf.cast(h,dtype=tf.float32))\n",
        "tf.math.log(tf.cast(h,dtype=tf.float32))"
      ],
      "metadata": {
        "colab": {
          "base_uri": "https://localhost:8080/"
        },
        "id": "cSeHeDgdsni0",
        "outputId": "c7f9da3d-4267-436f-d23f-0244f873edf9"
      },
      "execution_count": 60,
      "outputs": [
        {
          "output_type": "execute_result",
          "data": {
            "text/plain": [
              "<tf.Tensor: shape=(8,), dtype=float32, numpy=\n",
              "array([0.       , 0.6931472, 1.0986123, 1.3862944, 1.609438 , 1.7917595,\n",
              "       1.9459102, 2.0794415], dtype=float32)>"
            ]
          },
          "metadata": {},
          "execution_count": 60
        }
      ]
    },
    {
      "cell_type": "markdown",
      "source": [
        "**tensorflow and numpy**"
      ],
      "metadata": {
        "id": "ft1uNX8UublV"
      }
    },
    {
      "cell_type": "code",
      "source": [
        "#create a tensor from the numpy array\n",
        "j=tf.constant(np.array([1.,2.,3.]))\n",
        "#convert tensor back to numpy\n",
        "np.array(j),type(np.array(j))"
      ],
      "metadata": {
        "colab": {
          "base_uri": "https://localhost:8080/"
        },
        "id": "RernTdh7uec5",
        "outputId": "568d8a70-c8f9-4f9a-9677-8925dff402b9"
      },
      "execution_count": 64,
      "outputs": [
        {
          "output_type": "execute_result",
          "data": {
            "text/plain": [
              "(array([1., 2., 3.]), numpy.ndarray)"
            ]
          },
          "metadata": {},
          "execution_count": 64
        }
      ]
    },
    {
      "cell_type": "code",
      "source": [
        "#convert tesor j to numpy array\n",
        "j.numpy(),type(j.numpy())"
      ],
      "metadata": {
        "colab": {
          "base_uri": "https://localhost:8080/"
        },
        "id": "R6_ubZWCu46j",
        "outputId": "afbff9d4-8906-42f1-e03a-6b2570b07742"
      },
      "execution_count": 66,
      "outputs": [
        {
          "output_type": "execute_result",
          "data": {
            "text/plain": [
              "(array([1., 2., 3.]), numpy.ndarray)"
            ]
          },
          "metadata": {},
          "execution_count": 66
        }
      ]
    },
    {
      "cell_type": "code",
      "source": [
        "another=tf.constant(np.array([1.,2.,23.]))\n",
        "type(another)"
      ],
      "metadata": {
        "colab": {
          "base_uri": "https://localhost:8080/"
        },
        "id": "mjnNuZC9xI3x",
        "outputId": "dd91f0e6-9ff8-40d7-e4da-e726694a5743"
      },
      "execution_count": 67,
      "outputs": [
        {
          "output_type": "execute_result",
          "data": {
            "text/plain": [
              "tensorflow.python.framework.ops.EagerTensor"
            ]
          },
          "metadata": {},
          "execution_count": 67
        }
      ]
    }
  ]
}