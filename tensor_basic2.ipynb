{
  "nbformat": 4,
  "nbformat_minor": 0,
  "metadata": {
    "colab": {
      "provenance": [],
      "toc_visible": true
    },
    "kernelspec": {
      "name": "python3",
      "display_name": "Python 3"
    },
    "language_info": {
      "name": "python"
    }
  },
  "cells": [
    {
      "cell_type": "code",
      "execution_count": 1,
      "metadata": {
        "id": "DZ4k7Y6v8bjc"
      },
      "outputs": [],
      "source": [
        " import tensorflow as tf"
      ]
    },
    {
      "cell_type": "code",
      "source": [
        "shuffle=tf.constant([[1,2],[3,4],[5,6]])\n",
        "shuffle"
      ],
      "metadata": {
        "colab": {
          "base_uri": "https://localhost:8080/"
        },
        "id": "hCUKUcFY9J3k",
        "outputId": "9cb72360-34b4-4989-a3d5-dfc22161279d"
      },
      "execution_count": null,
      "outputs": [
        {
          "output_type": "execute_result",
          "data": {
            "text/plain": [
              "<tf.Tensor: shape=(3, 2), dtype=int32, numpy=\n",
              "array([[1, 2],\n",
              "       [3, 4],\n",
              "       [5, 6]], dtype=int32)>"
            ]
          },
          "metadata": {},
          "execution_count": 5
        }
      ]
    },
    {
      "cell_type": "code",
      "source": [
        "tf.random.set_seed(42)\n",
        "tf.random.shuffle(shuffle,seed=42)"
      ],
      "metadata": {
        "colab": {
          "base_uri": "https://localhost:8080/"
        },
        "id": "5c1vVVen9iYX",
        "outputId": "258e3b8d-6da7-4cf1-e518-4c957072ea62"
      },
      "execution_count": null,
      "outputs": [
        {
          "output_type": "execute_result",
          "data": {
            "text/plain": [
              "<tf.Tensor: shape=(3, 2), dtype=int32, numpy=\n",
              "array([[1, 2],\n",
              "       [3, 4],\n",
              "       [5, 6]], dtype=int32)>"
            ]
          },
          "metadata": {},
          "execution_count": 6
        }
      ]
    },
    {
      "cell_type": "code",
      "source": [
        "# tensor of ones\n",
        "tf.ones([4,6])"
      ],
      "metadata": {
        "colab": {
          "base_uri": "https://localhost:8080/"
        },
        "id": "JxwRCzCdM6dH",
        "outputId": "ed6c7e88-6f04-41ee-991b-356e76d9e81d"
      },
      "execution_count": null,
      "outputs": [
        {
          "output_type": "execute_result",
          "data": {
            "text/plain": [
              "<tf.Tensor: shape=(4, 6), dtype=float32, numpy=\n",
              "array([[1., 1., 1., 1., 1., 1.],\n",
              "       [1., 1., 1., 1., 1., 1.],\n",
              "       [1., 1., 1., 1., 1., 1.],\n",
              "       [1., 1., 1., 1., 1., 1.]], dtype=float32)>"
            ]
          },
          "metadata": {},
          "execution_count": 7
        }
      ]
    },
    {
      "cell_type": "code",
      "source": [
        "# tensor of zeros\n",
        "tf.zeros([3,6])\n",
        "# both are same\n",
        "tf.zeros(shape=(3,6))"
      ],
      "metadata": {
        "colab": {
          "base_uri": "https://localhost:8080/"
        },
        "id": "8ZBIMPbxNIZG",
        "outputId": "a2b70aaa-e063-4606-da67-a31c8ee1361d"
      },
      "execution_count": null,
      "outputs": [
        {
          "output_type": "execute_result",
          "data": {
            "text/plain": [
              "<tf.Tensor: shape=(3, 6), dtype=float32, numpy=\n",
              "array([[0., 0., 0., 0., 0., 0.],\n",
              "       [0., 0., 0., 0., 0., 0.],\n",
              "       [0., 0., 0., 0., 0., 0.]], dtype=float32)>"
            ]
          },
          "metadata": {},
          "execution_count": 8
        }
      ]
    },
    {
      "cell_type": "code",
      "source": [
        "#turn numpy to tensors\n",
        "import numpy as np\n",
        "# store_array=np.arrange(1,25,dtype=np.int32)\n",
        "# store_array\n",
        "\n",
        "numpy_A=np.arange(1,25,dtype=np.int32)\n",
        "numpy_A"
      ],
      "metadata": {
        "id": "DwxGLjJENIXV",
        "colab": {
          "base_uri": "https://localhost:8080/"
        },
        "outputId": "6a95656b-0fdf-4462-e08b-ea48c77c0e5e"
      },
      "execution_count": null,
      "outputs": [
        {
          "output_type": "execute_result",
          "data": {
            "text/plain": [
              "array([ 1,  2,  3,  4,  5,  6,  7,  8,  9, 10, 11, 12, 13, 14, 15, 16, 17,\n",
              "       18, 19, 20, 21, 22, 23, 24], dtype=int32)"
            ]
          },
          "metadata": {},
          "execution_count": 12
        }
      ]
    },
    {
      "cell_type": "code",
      "source": [
        "a=tf.constant(numpy_A)\n",
        "a"
      ],
      "metadata": {
        "colab": {
          "base_uri": "https://localhost:8080/"
        },
        "id": "LV8W5oTJzcJZ",
        "outputId": "d56b3f7d-b44b-4ad8-d7a8-7506f069f675"
      },
      "execution_count": null,
      "outputs": [
        {
          "output_type": "execute_result",
          "data": {
            "text/plain": [
              "<tf.Tensor: shape=(24,), dtype=int32, numpy=\n",
              "array([ 1,  2,  3,  4,  5,  6,  7,  8,  9, 10, 11, 12, 13, 14, 15, 16, 17,\n",
              "       18, 19, 20, 21, 22, 23, 24], dtype=int32)>"
            ]
          },
          "metadata": {},
          "execution_count": 16
        }
      ]
    },
    {
      "cell_type": "code",
      "source": [
        "numpy_A.shape"
      ],
      "metadata": {
        "colab": {
          "base_uri": "https://localhost:8080/"
        },
        "id": "nTadcCmY1GoO",
        "outputId": "4e882920-91a1-47f4-b918-df8794e487ea"
      },
      "execution_count": null,
      "outputs": [
        {
          "output_type": "execute_result",
          "data": {
            "text/plain": [
              "(24,)"
            ]
          },
          "metadata": {},
          "execution_count": 18
        }
      ]
    },
    {
      "cell_type": "code",
      "source": [
        "b=tf.constant(numpy_A,shape=(4,3,2))\n",
        "b"
      ],
      "metadata": {
        "id": "QX-7BEMaNydo",
        "colab": {
          "base_uri": "https://localhost:8080/"
        },
        "outputId": "bc05815c-10b4-4016-a9b6-791ff890563f"
      },
      "execution_count": null,
      "outputs": [
        {
          "output_type": "execute_result",
          "data": {
            "text/plain": [
              "<tf.Tensor: shape=(4, 3, 2), dtype=int32, numpy=\n",
              "array([[[ 1,  2],\n",
              "        [ 3,  4],\n",
              "        [ 5,  6]],\n",
              "\n",
              "       [[ 7,  8],\n",
              "        [ 9, 10],\n",
              "        [11, 12]],\n",
              "\n",
              "       [[13, 14],\n",
              "        [15, 16],\n",
              "        [17, 18]],\n",
              "\n",
              "       [[19, 20],\n",
              "        [21, 22],\n",
              "        [23, 24]]], dtype=int32)>"
            ]
          },
          "metadata": {},
          "execution_count": 20
        }
      ]
    },
    {
      "cell_type": "code",
      "source": [
        "b.ndim"
      ],
      "metadata": {
        "colab": {
          "base_uri": "https://localhost:8080/"
        },
        "id": "dA2534V-2RYL",
        "outputId": "88aceece-799c-4898-9967-7f8e51dc6191"
      },
      "execution_count": null,
      "outputs": [
        {
          "output_type": "execute_result",
          "data": {
            "text/plain": [
              "3"
            ]
          },
          "metadata": {},
          "execution_count": 21
        }
      ]
    },
    {
      "cell_type": "code",
      "source": [
        "store_value=tf.zeros(shape=(2,2,3,4))\n",
        "store_value.shape\n",
        "tf.size(store_value).numpy()\n",
        "# store_value.ndim"
      ],
      "metadata": {
        "colab": {
          "base_uri": "https://localhost:8080/"
        },
        "id": "ICsU3nNW3zZk",
        "outputId": "b97df982-12cc-498c-ae27-d4bf4a63e67b"
      },
      "execution_count": null,
      "outputs": [
        {
          "output_type": "execute_result",
          "data": {
            "text/plain": [
              "48"
            ]
          },
          "metadata": {},
          "execution_count": 35
        }
      ]
    },
    {
      "cell_type": "markdown",
      "source": [
        "**Tensors can run faster on the gpu as compare to the numpy **"
      ],
      "metadata": {
        "id": "2B1DTMgINzQa"
      }
    },
    {
      "cell_type": "code",
      "source": [
        "# get the each index of the dimention except the final one\n",
        "dimention=tf.random.Generator.from_seed(32)\n",
        "dimention=dimention.normal(shape=(3,3))\n",
        "dimention"
      ],
      "metadata": {
        "colab": {
          "base_uri": "https://localhost:8080/"
        },
        "id": "yc5zOJD99DIY",
        "outputId": "c8d98707-7e26-41b0-ab95-611ffb867de8"
      },
      "execution_count": null,
      "outputs": [
        {
          "output_type": "execute_result",
          "data": {
            "text/plain": [
              "<tf.Tensor: shape=(3, 3), dtype=float32, numpy=\n",
              "array([[ 0.7901182 ,  1.585549  ,  0.4356279 ],\n",
              "       [ 0.2364518 , -0.1589871 ,  1.302304  ],\n",
              "       [ 0.9592239 ,  0.85874265, -1.5181769 ]], dtype=float32)>"
            ]
          },
          "metadata": {},
          "execution_count": 51
        }
      ]
    },
    {
      "cell_type": "code",
      "source": [
        "dimention[:2,:1]\n",
        "dimention.shape"
      ],
      "metadata": {
        "colab": {
          "base_uri": "https://localhost:8080/"
        },
        "id": "q6WH93SL-YfV",
        "outputId": "1b1a7a31-edec-445d-95a8-f293cf7ac264"
      },
      "execution_count": null,
      "outputs": [
        {
          "output_type": "execute_result",
          "data": {
            "text/plain": [
              "TensorShape([3, 3])"
            ]
          },
          "metadata": {},
          "execution_count": 56
        }
      ]
    },
    {
      "cell_type": "code",
      "source": [],
      "metadata": {
        "id": "FoEgCCGXInHb"
      },
      "execution_count": null,
      "outputs": []
    },
    {
      "cell_type": "code",
      "source": [
        "storage_place=dimention[...,tf.newaxis]\n",
        "# or\n",
        "store2=dimention[:,:,tf.newaxis]\n",
        "#or\n",
        "store3=tf.expand_dims(dimention,axis=-1) #axis=0 will put the dimention in the start\n",
        "store3.shape"
      ],
      "metadata": {
        "colab": {
          "base_uri": "https://localhost:8080/"
        },
        "id": "f4a9SyXw-lxc",
        "outputId": "e8defb51-7c24-497c-f32a-bf0f3ba83d96"
      },
      "execution_count": null,
      "outputs": [
        {
          "output_type": "execute_result",
          "data": {
            "text/plain": [
              "TensorShape([3, 3, 1])"
            ]
          },
          "metadata": {},
          "execution_count": 71
        }
      ]
    },
    {
      "cell_type": "markdown",
      "source": [
        "***You can add the values in the tensor using the addition operator***"
      ],
      "metadata": {
        "id": "paiKpc9aStou"
      }
    },
    {
      "cell_type": "code",
      "source": [
        "tensort=tf.constant([[1,2],[4,5]])\n",
        "tensort+10"
      ],
      "metadata": {
        "colab": {
          "base_uri": "https://localhost:8080/"
        },
        "id": "XQ9n-qG5_PY0",
        "outputId": "e7de55b2-5dcc-4207-e5a3-5318f176b975"
      },
      "execution_count": null,
      "outputs": [
        {
          "output_type": "execute_result",
          "data": {
            "text/plain": [
              "<tf.Tensor: shape=(2, 2), dtype=int32, numpy=\n",
              "array([[11, 12],\n",
              "       [14, 15]], dtype=int32)>"
            ]
          },
          "metadata": {},
          "execution_count": 72
        }
      ]
    },
    {
      "cell_type": "code",
      "source": [
        "tensort-10\n",
        "tensort*10\n",
        "# can also use the tensor flow built in functions too..\n",
        "tf.multiply(tensort,10)"
      ],
      "metadata": {
        "colab": {
          "base_uri": "https://localhost:8080/"
        },
        "id": "GUdMFCLeTIVL",
        "outputId": "f20b653e-7079-4752-f2ad-8204301ac560"
      },
      "execution_count": null,
      "outputs": [
        {
          "output_type": "execute_result",
          "data": {
            "text/plain": [
              "<tf.Tensor: shape=(2, 2), dtype=int32, numpy=\n",
              "array([[10, 20],\n",
              "       [40, 50]], dtype=int32)>"
            ]
          },
          "metadata": {},
          "execution_count": 75
        }
      ]
    },
    {
      "cell_type": "markdown",
      "source": [
        "**Matrix multiplication**:\n",
        " \" In machine learning, matrix multiplication is one of the most common tensor\""
      ],
      "metadata": {
        "id": "S-ELP71zUVoP"
      }
    },
    {
      "cell_type": "code",
      "source": [
        "matrix_mul=tf.constant([[1,2],[3,4]])\n",
        "tf.matmul(matrix_mul,matrix_mul)"
      ],
      "metadata": {
        "colab": {
          "base_uri": "https://localhost:8080/"
        },
        "id": "0p9jHx5RTITj",
        "outputId": "b1ec51b6-805d-461d-801d-10fb8b7865ce"
      },
      "execution_count": null,
      "outputs": [
        {
          "output_type": "execute_result",
          "data": {
            "text/plain": [
              "<tf.Tensor: shape=(2, 2), dtype=int32, numpy=\n",
              "array([[ 7, 10],\n",
              "       [15, 22]], dtype=int32)>"
            ]
          },
          "metadata": {},
          "execution_count": 77
        }
      ]
    },
    {
      "cell_type": "code",
      "source": [
        " matrix_mul*matrix_mulf"
      ],
      "metadata": {
        "colab": {
          "base_uri": "https://localhost:8080/"
        },
        "id": "LBmB8r0bX3oL",
        "outputId": "6c2d6137-bdec-4732-f468-2dc82df22a71"
      },
      "execution_count": null,
      "outputs": [
        {
          "output_type": "execute_result",
          "data": {
            "text/plain": [
              "<tf.Tensor: shape=(2, 2), dtype=int32, numpy=\n",
              "array([[ 1,  4],\n",
              "       [ 9, 16]], dtype=int32)>"
            ]
          },
          "metadata": {},
          "execution_count": 78
        }
      ]
    },
    {
      "cell_type": "code",
      "source": [
        "tensor_1=tf.constant([[1,2,3],[5,6,7]]);\n",
        "tensor_2=tf.constant([[3],[7],[8]]);\n",
        "tensor_2.shape\n",
        "tf.matmul(tensor_1,tensor_2)\n",
        "#   ----                THIS WILL NOT WORK BECAUSE FIRST MATRIX ROW SHOULD BE EQUAL TO THE SECOND MATRIX COLUMN\n",
        "# tf.matmul(tensor_2,tensor_1)  # TO MAKE THIS STAEMENT WORK\n",
        "# tensor_1.shape,tensor_2.shape\n",
        "reshape_tensor2=tf.reshape(tensor_2,shape=(1,3))\n",
        "reshape_tensor1=tf.reshape(tensor_1,shape=(3,2))\n",
        "reshape_tensor2.shape,reshape_tensor1.shape\n",
        "tf.matmul(reshape_tensor2,reshape_tensor1)"
      ],
      "metadata": {
        "colab": {
          "base_uri": "https://localhost:8080/"
        },
        "id": "FMQvSsuoFyLt",
        "outputId": "4d597ccc-caf6-4285-fa9c-112f3b8aa5d9"
      },
      "execution_count": 31,
      "outputs": [
        {
          "output_type": "execute_result",
          "data": {
            "text/plain": [
              "<tf.Tensor: shape=(1, 2), dtype=int32, numpy=array([[72, 97]], dtype=int32)>"
            ]
          },
          "metadata": {},
          "execution_count": 31
        }
      ]
    },
    {
      "cell_type": "code",
      "source": [
        "tf.transpose(tensor_1).shape"
      ],
      "metadata": {
        "colab": {
          "base_uri": "https://localhost:8080/"
        },
        "id": "9-gRUmMxW2CM",
        "outputId": "53717423-dfcd-4869-c79e-6d56dec060af"
      },
      "execution_count": 34,
      "outputs": [
        {
          "output_type": "execute_result",
          "data": {
            "text/plain": [
              "TensorShape([3, 2])"
            ]
          },
          "metadata": {},
          "execution_count": 34
        }
      ]
    }
  ]
}